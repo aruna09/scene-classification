{
  "nbformat": 4,
  "nbformat_minor": 0,
  "metadata": {
    "colab": {
      "name": "scene classification.ipynb",
      "version": "0.3.2",
      "provenance": [],
      "collapsed_sections": [],
      "include_colab_link": true
    },
    "kernelspec": {
      "name": "python2",
      "display_name": "Python 2"
    }
  },
  "cells": [
    {
      "cell_type": "markdown",
      "metadata": {
        "id": "view-in-github",
        "colab_type": "text"
      },
      "source": [
        "<a href=\"https://colab.research.google.com/github/aruna09/scene-classification/blob/master/scene_classification.ipynb\" target=\"_parent\"><img src=\"https://colab.research.google.com/assets/colab-badge.svg\" alt=\"Open In Colab\"/></a>"
      ]
    },
    {
      "metadata": {
        "id": "ZXsYo045Z2-s",
        "colab_type": "code",
        "outputId": "e6b6156c-d500-446b-ccbe-e064a3a59d5a",
        "colab": {
          "base_uri": "https://localhost:8080/",
          "height": 124
        }
      },
      "cell_type": "code",
      "source": [
        "from google.colab import drive\n",
        "drive.mount('/content/drive')"
      ],
      "execution_count": 3,
      "outputs": [
        {
          "output_type": "stream",
          "text": [
            "Go to this URL in a browser: https://accounts.google.com/o/oauth2/auth?client_id=947318989803-6bn6qk8qdgf4n4g3pfee6491hc0brc4i.apps.googleusercontent.com&redirect_uri=urn%3Aietf%3Awg%3Aoauth%3A2.0%3Aoob&scope=email%20https%3A%2F%2Fwww.googleapis.com%2Fauth%2Fdocs.test%20https%3A%2F%2Fwww.googleapis.com%2Fauth%2Fdrive%20https%3A%2F%2Fwww.googleapis.com%2Fauth%2Fdrive.photos.readonly%20https%3A%2F%2Fwww.googleapis.com%2Fauth%2Fpeopleapi.readonly&response_type=code\n",
            "\n",
            "Enter your authorization code:\n",
            "··········\n",
            "Mounted at /content/drive\n"
          ],
          "name": "stdout"
        }
      ]
    },
    {
      "metadata": {
        "id": "BmGFjcd9J7vb",
        "colab_type": "code",
        "colab": {}
      },
      "cell_type": "code",
      "source": [
        "import zipfile\n",
        "\n",
        "zip_ref = zipfile.ZipFile(\"/content/drive/My Drive/train-scene classification.zip\", 'r')\n",
        "zip_ref.extractall(\"/content/drive/My Drive\")\n",
        "zip_ref.close()"
      ],
      "execution_count": 0,
      "outputs": []
    },
    {
      "metadata": {
        "id": "gDIQSs2EARxr",
        "colab_type": "code",
        "colab": {}
      },
      "cell_type": "code",
      "source": [
        "## creating folders to divide train images\n",
        "import os\n",
        "\n",
        "dirName0 = '/content/drive/My Drive/train/buildings'\n",
        "dirName1 = '/content/drive/My Drive/train/forest'\n",
        "dirName2 = '/content/drive/My Drive/train/glacier'\n",
        "dirName3 = '/content/drive/My Drive/train/mountain'\n",
        "dirName4 = '/content/drive/My Drive/train/sea'\n",
        "dirName5 = '/content/drive/My Drive/train/street'\n",
        "\n",
        "if not os.path.exists(dirName0):\n",
        "    os.mkdir(dirName0)\n",
        "    print(\"Directory Created \")\n",
        "else:    \n",
        "    print(\"Directory already exists\")\n",
        "    \n",
        "if not os.path.exists(dirName1):\n",
        "    os.mkdir(dirName1)\n",
        "    print(\"Directory Created \")\n",
        "else:    \n",
        "    print(\"Directory already exists\")\n",
        "\n",
        "if not os.path.exists(dirName2):\n",
        "    os.mkdir(dirName2)\n",
        "    print(\"Directory Created \")\n",
        "else:    \n",
        "    print(\"Directory already exists\")\n",
        "if not os.path.exists(dirName3):\n",
        "    os.mkdir(dirName3)\n",
        "    print(\"Directory Created \")\n",
        "else:    \n",
        "    print(\"Directory already exists\")\n",
        "if not os.path.exists(dirName4):\n",
        "    os.mkdir(dirName4)\n",
        "    print(\"Directory Created \")\n",
        "else:    \n",
        "    print(\"Directory already exists\")\n",
        "    \n",
        "if not os.path.exists(dirName5):\n",
        "    os.mkdir(dirName5)\n",
        "    print(\"Directory Created \")\n",
        "else:    \n",
        "    print(\"Directory already exists\")\n"
      ],
      "execution_count": 0,
      "outputs": []
    },
    {
      "metadata": {
        "id": "hK4FRQW2HdNS",
        "colab_type": "code",
        "colab": {}
      },
      "cell_type": "code",
      "source": [
        "!pwd"
      ],
      "execution_count": 0,
      "outputs": []
    },
    {
      "metadata": {
        "id": "wVBKAAGTLZKd",
        "colab_type": "code",
        "colab": {}
      },
      "cell_type": "code",
      "source": [
        "## checking whether the extraction worked.\n",
        "## train.csv has image names along with their labels. \n",
        "## the images that don't have labels belong to the test set.\n",
        "\n",
        "## 'buildings' -> 0, \n",
        "## 'forest' -> 1,\n",
        "## 'glacier' -> 2,\n",
        "## 'mountain' -> 3,\n",
        "## 'sea' -> 4,\n",
        "## 'street' -> 5\n",
        "\n",
        "## Successfully moved images to respective folders.\n",
        "import pandas as pd\n",
        "import shutil\n",
        "import os\n",
        "\n",
        "source = \"/content/drive/My Drive/train/\"\n",
        "dirName0 = '/content/drive/My Drive/train/buildings/'\n",
        "dirName1 = '/content/drive/My Drive/train/forest/'\n",
        "dirName2 = '/content/drive/My Drive/train/glacier/'\n",
        "dirName3 = '/content/drive/My Drive/train/mountain/'\n",
        "dirName4 = '/content/drive/My Drive/train/sea/'\n",
        "dirName5 = '/content/drive/My Drive/train/street/'\n",
        "\n",
        "train  = pd.read_csv(\"/content/drive/My Drive/train/train.csv\")\n",
        "for index, row in train.iterrows():\n",
        "  img_name = row['image_name']\n",
        "  label = row['label']\n",
        "  \n",
        "  if label == 0:\n",
        "    if img_name!= \"0.jpg\":\n",
        "      src = os.path.join(source, img_name)\n",
        "      dest = os.path.join(dirName0, img_name)\n",
        "      \n",
        "      shutil.move(src,dest)\n",
        "  if label == 1:\n",
        "    src = os.path.join(source, img_name)\n",
        "    dest = os.path.join(dirName1, img_name)\n",
        "     \n",
        "    shutil.move(src,dest)\n",
        "  if label == 2:\n",
        "    src = os.path.join(source, img_name)\n",
        "    dest = os.path.join(dirName2, img_name)\n",
        "     \n",
        "    shutil.move(src,dest)\n",
        "  if label == 3:\n",
        "      src = os.path.join(source, img_name)\n",
        "      dest = os.path.join(dirName3, img_name)\n",
        "     \n",
        "      shutil.move(src,dest)\n",
        "  if label == 4:\n",
        "    src = os.path.join(source, img_name)\n",
        "    dest = os.path.join(dirName4, img_name)\n",
        "     \n",
        "    shutil.move(src,dest)\n",
        "  if label == 5:\n",
        "    src = os.path.join(source, img_name)\n",
        "    dest = os.path.join(dirName5, img_name)\n",
        "     \n",
        "    shutil.move(src,dest)"
      ],
      "execution_count": 0,
      "outputs": []
    },
    {
      "metadata": {
        "id": "E9D2gCK9a4GK",
        "colab_type": "code",
        "colab": {}
      },
      "cell_type": "code",
      "source": [
        "## Renamed the train folder with the unlabeled samples as test\n",
        "os.rename(\"/content/drive/My Drive/test\", \"/content/drive/My Drive/data\")"
      ],
      "execution_count": 0,
      "outputs": []
    },
    {
      "metadata": {
        "id": "3xaZunIKOU3e",
        "colab_type": "code",
        "colab": {}
      },
      "cell_type": "code",
      "source": [
        "#os.mkdir(\"/content/drive/My Drive/data/test\")\n",
        "test = \"/content/drive/My Drive/data/test\"\n",
        "\n",
        "print os.path.exists(test)"
      ],
      "execution_count": 0,
      "outputs": []
    },
    {
      "metadata": {
        "id": "tPxTOdwdBFc0",
        "colab_type": "code",
        "colab": {}
      },
      "cell_type": "code",
      "source": [
        "## Code to move the leftover images to the test folder\n",
        "import shutil\n",
        "import os\n",
        "\n",
        "source = \"/content/drive/My Drive/data/\"\n",
        "test = \"/content/drive/My Drive/data/test/\"\n",
        "\n",
        "for file in os.listdir(source):\n",
        "  if file.endswith('jpg'):\n",
        "    src = os.path.join(source, file)\n",
        "    dest = os.path.join(test, file)\n",
        "    shutil.move(src, dest)\n"
      ],
      "execution_count": 0,
      "outputs": []
    },
    {
      "metadata": {
        "id": "rQR8KiTiQMGp",
        "colab_type": "code",
        "colab": {}
      },
      "cell_type": "code",
      "source": [
        "## moving the ndividual folders to a train directory\n",
        "\n",
        "print os.mkdir(\"/content/drive/My Drive/data/train\")\n",
        "\n",
        "source = \"/content/drive/My Drive/data/\"\n",
        "desti = \"/content/drive/My Drive/data/train/\"\n",
        "\n",
        "for file in os.listdir(source):\n",
        "  src = os.path.join(source, file)\n",
        "  dest = os.path.join(desti, file)\n",
        "  shutil.move(src, dest)\n"
      ],
      "execution_count": 0,
      "outputs": []
    },
    {
      "metadata": {
        "id": "2m8QOL8ETSSa",
        "colab_type": "code",
        "colab": {}
      },
      "cell_type": "code",
      "source": [
        "## Helper code. Dont run this again\n",
        "source = \"/content/drive/My Drive/data/train\"\n",
        "desti = \"/content/drive/My Drive/data/\"\n",
        "\n",
        "for file in os.listdir(source):\n",
        "  if file == \"test\":\n",
        "    src = os.path.join(source, file)\n",
        "    dest = os.path.join(desti, file)\n",
        "    shutil.move(src, dest)\n"
      ],
      "execution_count": 0,
      "outputs": []
    },
    {
      "metadata": {
        "id": "4T8oiuZgbOyQ",
        "colab_type": "code",
        "outputId": "67c09bfe-94a8-4bc1-dc9c-fd5489de7a31",
        "colab": {
          "base_uri": "https://localhost:8080/",
          "height": 121
        }
      },
      "cell_type": "code",
      "source": [
        "## because the test set contains exactly 7301 files\n",
        "print len([f for f in os.listdir('/content/drive/My Drive/data/test') if os.path.isfile(os.path.join('/content/drive/My Drive/data/test', f)) and f[0] != '.'])\n",
        "print len([f for f in os.listdir('/content/drive/My Drive/data/train/buildings') if os.path.isfile(os.path.join('/content/drive/My Drive/data/train/buildings', f)) and f[0] != '.'])\n",
        "print len([f for f in os.listdir('/content/drive/My Drive/data/train/forest') if os.path.isfile(os.path.join('/content/drive/My Drive/data/train/forest', f)) and f[0] != '.'])\n",
        "print len([f for f in os.listdir('/content/drive/My Drive/data/train/street') if os.path.isfile(os.path.join('/content/drive/My Drive/data/train/street', f)) and f[0] != '.'])\n",
        "print len([f for f in os.listdir('/content/drive/My Drive/data/train/mountain') if os.path.isfile(os.path.join('/content/drive/My Drive/data/train/mountain', f)) and f[0] != '.'])\n",
        "print len([f for f in os.listdir('/content/drive/My Drive/data/train/glacier') if os.path.isfile(os.path.join('/content/drive/My Drive/data/train/glacier', f)) and f[0] != '.'])\n"
      ],
      "execution_count": 11,
      "outputs": [
        {
          "output_type": "stream",
          "text": [
            "7301\n",
            "2627\n",
            "2745\n",
            "2883\n",
            "3037\n",
            "2957\n"
          ],
          "name": "stdout"
        }
      ]
    },
    {
      "metadata": {
        "id": "GoxId_jUpNfl",
        "colab_type": "code",
        "colab": {}
      },
      "cell_type": "code",
      "source": [
        "## Sanity Checks\n",
        "\n",
        "import os\n",
        "import cv2 as cv\n",
        "\n",
        "dirName0 = '/content/drive/My Drive/data/train/buildings/'\n",
        "\n",
        "for file in dirName0:\n",
        "  path = os.path.join(dirName0, file)\n",
        "  img = cv.imread(path)\n",
        "  size = img.shape\n",
        "  \n",
        "# input shape is the same for all images = (150, 150, 3)"
      ],
      "execution_count": 0,
      "outputs": []
    },
    {
      "metadata": {
        "id": "DRSNSWRfRP5n",
        "colab_type": "code",
        "outputId": "3518f577-8437-44db-b91c-64714ed64d18",
        "colab": {
          "base_uri": "https://localhost:8080/",
          "height": 52
        }
      },
      "cell_type": "code",
      "source": [
        "from keras.preprocessing.image import ImageDataGenerator\n",
        "\n",
        "batch_size = 30\n",
        "\n",
        "train_datagen = ImageDataGenerator()\n",
        "\n",
        "train_generator = train_datagen.flow_from_directory(\n",
        "  '/content/drive/My Drive/data/train',\n",
        "\ttarget_size=(150,150),\n",
        "\tbatch_size=batch_size,\n",
        "  class_mode = 'categorical'\n",
        "\t)\n",
        "\n",
        "test_datagen = ImageDataGenerator()\n",
        "\n",
        "test_generator = train_datagen.flow_from_directory(\n",
        "  '/content/drive/My Drive/data/test',\n",
        "\ttarget_size=(150,150),\n",
        "\tbatch_size=batch_size,\n",
        "  class_mode = 'categorical'\n",
        "\t)"
      ],
      "execution_count": 14,
      "outputs": [
        {
          "output_type": "stream",
          "text": [
            "Found 17033 images belonging to 6 classes.\n",
            "Found 0 images belonging to 0 classes.\n"
          ],
          "name": "stdout"
        }
      ]
    },
    {
      "metadata": {
        "id": "D431s23at1US",
        "colab_type": "code",
        "colab": {}
      },
      "cell_type": "code",
      "source": [
        "from keras.models import Sequential\n",
        "from keras.layers import Dense, Conv2D, Flatten, MaxPooling2D, Activation, Dropout\n",
        "\n",
        "def create_model():\n",
        "  batch = 17033\n",
        "  steps = 500\n",
        "  height = 150\n",
        "  width = 150\n",
        "  channel = 3\n",
        "\n",
        "  model = Sequential([\n",
        "      Conv2D(64, (1,1), strides = (1,1), input_shape=(150, 150, 3)),\n",
        "      Conv2D(64, (1,1), strides = (1,1)),\n",
        "      Activation('relu'),\n",
        "      MaxPooling2D(data_format=None),\n",
        "\n",
        "      Conv2D(64, (1,1), strides = (1,1)),\n",
        "      Conv2D(64, (1,1), strides = (1,1)),\n",
        "      Activation('relu'),\n",
        "      MaxPooling2D(data_format=None),\n",
        "\n",
        "      Conv2D(64, (1,1), strides = (1,1)),\n",
        "      Conv2D(64, (1,1), strides = (1,1)),\n",
        "      Activation('relu'),\n",
        "      MaxPooling2D(data_format=None),\n",
        "\n",
        "      Conv2D(64, (1,1), strides = (1,1)),\n",
        "      Conv2D(64, (1,1), strides = (1,1)),\n",
        "      Activation('relu'),\n",
        "      MaxPooling2D(data_format=None),\n",
        "\n",
        "      Flatten(),\n",
        "      Dropout(0.5),\n",
        "      Dense(6, activation = 'softmax')\n",
        "\n",
        "  ])\n",
        "  \n",
        "create_model()"
      ],
      "execution_count": 0,
      "outputs": []
    },
    {
      "metadata": {
        "id": "urgC2Cw-6lpv",
        "colab_type": "code",
        "colab": {
          "base_uri": "https://localhost:8080/",
          "height": 799
        },
        "outputId": "0aa7b9d5-f7ed-4c51-a371-176c8417b4fd"
      },
      "cell_type": "code",
      "source": [
        "model.summary()"
      ],
      "execution_count": 16,
      "outputs": [
        {
          "output_type": "stream",
          "text": [
            "_________________________________________________________________\n",
            "Layer (type)                 Output Shape              Param #   \n",
            "=================================================================\n",
            "conv2d_10 (Conv2D)           (None, 150, 150, 64)      256       \n",
            "_________________________________________________________________\n",
            "conv2d_11 (Conv2D)           (None, 150, 150, 64)      4160      \n",
            "_________________________________________________________________\n",
            "activation_5 (Activation)    (None, 150, 150, 64)      0         \n",
            "_________________________________________________________________\n",
            "max_pooling2d_5 (MaxPooling2 (None, 75, 75, 64)        0         \n",
            "_________________________________________________________________\n",
            "conv2d_12 (Conv2D)           (None, 75, 75, 64)        4160      \n",
            "_________________________________________________________________\n",
            "conv2d_13 (Conv2D)           (None, 75, 75, 64)        4160      \n",
            "_________________________________________________________________\n",
            "activation_6 (Activation)    (None, 75, 75, 64)        0         \n",
            "_________________________________________________________________\n",
            "max_pooling2d_6 (MaxPooling2 (None, 37, 37, 64)        0         \n",
            "_________________________________________________________________\n",
            "conv2d_14 (Conv2D)           (None, 37, 37, 64)        4160      \n",
            "_________________________________________________________________\n",
            "conv2d_15 (Conv2D)           (None, 37, 37, 64)        4160      \n",
            "_________________________________________________________________\n",
            "activation_7 (Activation)    (None, 37, 37, 64)        0         \n",
            "_________________________________________________________________\n",
            "max_pooling2d_7 (MaxPooling2 (None, 18, 18, 64)        0         \n",
            "_________________________________________________________________\n",
            "conv2d_16 (Conv2D)           (None, 18, 18, 64)        4160      \n",
            "_________________________________________________________________\n",
            "conv2d_17 (Conv2D)           (None, 18, 18, 64)        4160      \n",
            "_________________________________________________________________\n",
            "activation_8 (Activation)    (None, 18, 18, 64)        0         \n",
            "_________________________________________________________________\n",
            "max_pooling2d_8 (MaxPooling2 (None, 9, 9, 64)          0         \n",
            "_________________________________________________________________\n",
            "flatten_2 (Flatten)          (None, 5184)              0         \n",
            "_________________________________________________________________\n",
            "dropout_2 (Dropout)          (None, 5184)              0         \n",
            "_________________________________________________________________\n",
            "dense_2 (Dense)              (None, 6)                 31110     \n",
            "=================================================================\n",
            "Total params: 60,486\n",
            "Trainable params: 60,486\n",
            "Non-trainable params: 0\n",
            "_________________________________________________________________\n"
          ],
          "name": "stdout"
        }
      ]
    },
    {
      "metadata": {
        "id": "yC9EJzj86oOS",
        "colab_type": "code",
        "colab": {}
      },
      "cell_type": "code",
      "source": [
        "import tensorflow as tf\n",
        "\n",
        "model.compile(\n",
        "    optimizer='rmsprop',\n",
        "    loss = 'categorical_crossentropy',\n",
        "    metrics = ['accuracy']\n",
        ")"
      ],
      "execution_count": 0,
      "outputs": []
    },
    {
      "metadata": {
        "id": "Z7V3fqjorKnA",
        "colab_type": "code",
        "colab": {}
      },
      "cell_type": "code",
      "source": [
        "!pip install -q h5py pyyaml "
      ],
      "execution_count": 0,
      "outputs": []
    },
    {
      "metadata": {
        "id": "umoRtSExwtLv",
        "colab_type": "code",
        "colab": {}
      },
      "cell_type": "code",
      "source": [
        "import os\n",
        "os.rename(\"/content/drive/My Drive/data/checckpoint\", \"/content/drive/My Drive/data/checkpoint\")"
      ],
      "execution_count": 0,
      "outputs": []
    },
    {
      "metadata": {
        "id": "MJmqleFA68RO",
        "colab_type": "code",
        "colab": {}
      },
      "cell_type": "code",
      "source": [
        "import tensorflow as tf\n",
        "import keras\n",
        "\n",
        "\n",
        "checkpoint_path = \"/content/drive/My Drive/data/checkpoint/cp.ckpt\"\n",
        "checkpoint_dir = os.path.dirname(checkpoint_path)\n",
        "\n",
        "# Create checkpoint callback\n",
        "cp_callback = tf.keras.callbacks.ModelCheckpoint(checkpoint_path, \n",
        "                                                 save_weights_only=True,\n",
        "                                                 verbose=1)\n",
        "\n",
        "model.fit_generator(\n",
        "    train_generator,\n",
        "    steps_per_epoch = 17033,\n",
        "    epochs = 300,\n",
        "    validation_data = test_generator,\n",
        "    validation_steps = 7301,\n",
        "    callbacks = [cp_callback]\n",
        ")"
      ],
      "execution_count": 0,
      "outputs": []
    },
    {
      "metadata": {
        "id": "H-gsbBg8v_Js",
        "colab_type": "code",
        "colab": {}
      },
      "cell_type": "code",
      "source": [
        "#saving the weight file manually; dont know yet if using callbacks woud work.\n",
        "model.save_weights('/content/drive/My Drive/data/checkpoint')\n",
        "model.save('/content/drive/My Drive/data/checkpoint/my_model.h5')"
      ],
      "execution_count": 0,
      "outputs": []
    }
  ]
}