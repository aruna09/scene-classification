{
  "nbformat": 4,
  "nbformat_minor": 0,
  "metadata": {
    "colab": {
      "name": "scene classification.ipynb",
      "version": "0.3.2",
      "provenance": [],
      "collapsed_sections": [],
      "include_colab_link": true
    },
    "kernelspec": {
      "name": "python2",
      "display_name": "Python 2"
    }
  },
  "cells": [
    {
      "cell_type": "markdown",
      "metadata": {
        "id": "view-in-github",
        "colab_type": "text"
      },
      "source": [
        "<a href=\"https://colab.research.google.com/github/aruna09/scene-classification/blob/master/scene_classification.ipynb\" target=\"_parent\"><img src=\"https://colab.research.google.com/assets/colab-badge.svg\" alt=\"Open In Colab\"/></a>"
      ]
    },
    {
      "metadata": {
        "id": "ZXsYo045Z2-s",
        "colab_type": "code",
        "outputId": "1efd7ad9-b395-4970-c516-10743268ecec",
        "colab": {
          "base_uri": "https://localhost:8080/",
          "height": 124
        }
      },
      "cell_type": "code",
      "source": [
        "from google.colab import drive\n",
        "drive.mount('/content/drive')"
      ],
      "execution_count": 3,
      "outputs": [
        {
          "output_type": "stream",
          "text": [
            "Go to this URL in a browser: https://accounts.google.com/o/oauth2/auth?client_id=947318989803-6bn6qk8qdgf4n4g3pfee6491hc0brc4i.apps.googleusercontent.com&redirect_uri=urn%3Aietf%3Awg%3Aoauth%3A2.0%3Aoob&scope=email%20https%3A%2F%2Fwww.googleapis.com%2Fauth%2Fdocs.test%20https%3A%2F%2Fwww.googleapis.com%2Fauth%2Fdrive%20https%3A%2F%2Fwww.googleapis.com%2Fauth%2Fdrive.photos.readonly%20https%3A%2F%2Fwww.googleapis.com%2Fauth%2Fpeopleapi.readonly&response_type=code\n",
            "\n",
            "Enter your authorization code:\n",
            "··········\n",
            "Mounted at /content/drive\n"
          ],
          "name": "stdout"
        }
      ]
    },
    {
      "metadata": {
        "id": "FTVYQNqDZ8Gk",
        "colab_type": "code",
        "outputId": "ad349095-7e08-4df6-b6f5-ee97c01fcb7c",
        "colab": {
          "base_uri": "https://localhost:8080/",
          "height": 34
        }
      },
      "cell_type": "code",
      "source": [
        "import os\n",
        "open(\"drive/My Drive/train-scene classification.zip\")"
      ],
      "execution_count": 4,
      "outputs": [
        {
          "output_type": "execute_result",
          "data": {
            "text/plain": [
              "<open file 'drive/My Drive/train-scene classification.zip', mode 'r' at 0x7f2f6bb676f0>"
            ]
          },
          "metadata": {
            "tags": []
          },
          "execution_count": 4
        }
      ]
    },
    {
      "metadata": {
        "id": "7krJd2NMyp_j",
        "colab_type": "code",
        "colab": {}
      },
      "cell_type": "code",
      "source": [
        "!apt-get install -y -qq software-properties-common python-software-properties module-init-tools\n",
        "!add-apt-repository -y ppa:alessandro-strada/ppa 2>&1 > /dev/null\n",
        "!apt-get update -qq 2>&1 > /dev/null\n",
        "!apt-get -y install -qq google-drive-ocamlfuse fuse\n",
        "from google.colab import auth\n",
        "auth.authenticate_user()\n",
        "from oauth2client.client import GoogleCredentials\n",
        "creds = GoogleCredentials.get_application_default()\n",
        "import getpass\n",
        "!google-drive-ocamlfuse -headless -id={creds.client_id} -secret={creds.client_secret} < /dev/null 2>&1 | grep URL\n",
        "vcode = getpass.getpass()\n",
        "!echo {vcode} | google-drive-ocamlfuse -headless -id={creds.client_id} -secret={creds.client_secret}\n"
      ],
      "execution_count": 0,
      "outputs": []
    },
    {
      "metadata": {
        "id": "ramHd77f9ErH",
        "colab_type": "code",
        "colab": {}
      },
      "cell_type": "code",
      "source": [
        "## unziped the main folder and extracted all the files in a different folder.\n",
        "import zipfile\n",
        "\n",
        "fh = open('drive/My Drive/train-scene classification.zip', 'rb')\n",
        "z = zipfile.ZipFile(fh)\n",
        "for name in z.namelist():\n",
        "    outpath = \"drive/My Drive/scene-train\"\n",
        "    z.extract(name, outpath)\n",
        "fh.close()"
      ],
      "execution_count": 0,
      "outputs": []
    },
    {
      "metadata": {
        "id": "2wfKPpjC1NGJ",
        "colab_type": "code",
        "colab": {}
      },
      "cell_type": "code",
      "source": [
        "## unimportant. Don't run this\n",
        "import zipfile\n",
        "filename = \"drive/My Drive/train-scene classification.zip\"\n",
        "with zipfile.ZipFile(filename, 'r') as zip: \n",
        "    # printing all the contents of the zip file \n",
        "    zip.printdir() \n",
        "  \n",
        "    # extracting all the files \n",
        "    print('Extracting all the files now...') \n",
        "    zip.extractall() \n",
        "    print('Done!') "
      ],
      "execution_count": 0,
      "outputs": []
    },
    {
      "metadata": {
        "id": "wdk0u0302Kb8",
        "colab_type": "code",
        "colab": {}
      },
      "cell_type": "code",
      "source": [
        "## checking whether the extraction worked.\n",
        "## train.csv has image names along with their labels. \n",
        "## the images that don't have labels belong to the test set.\n",
        "\n",
        "## 'buildings' -> 0, \n",
        "## 'forest' -> 1,\n",
        "## 'glacier' -> 2,\n",
        "## 'mountain' -> 3,\n",
        "## 'sea' -> 4,\n",
        "## 'street' -> 5 \n"
      ],
      "execution_count": 0,
      "outputs": []
    },
    {
      "metadata": {
        "id": "5yLZAc2iErRr",
        "colab_type": "code",
        "colab": {
          "base_uri": "https://localhost:8080/",
          "height": 34
        },
        "outputId": "fb055797-ab42-4d04-c8e3-19fdcc12b193"
      },
      "cell_type": "code",
      "source": [
        "os.chdir(\"/content/drive/My Drive/scene-train\")\n",
        "!pwd"
      ],
      "execution_count": 39,
      "outputs": [
        {
          "output_type": "stream",
          "text": [
            "/content/drive/My Drive/scene-train\n"
          ],
          "name": "stdout"
        }
      ]
    },
    {
      "metadata": {
        "id": "gDIQSs2EARxr",
        "colab_type": "code",
        "colab": {
          "base_uri": "https://localhost:8080/",
          "height": 121
        },
        "outputId": "a3b72586-931b-4110-d711-97a0eacd7ba7"
      },
      "cell_type": "code",
      "source": [
        "## creating folders to divide train images\n",
        "import os\n",
        "\n",
        "dirName0 = 'buildings'\n",
        "dirName1 = 'forest'\n",
        "dirName2 = 'glacier'\n",
        "dirName3 = 'mountain'\n",
        "dirName4 = 'sea'\n",
        "dirName5 = 'street'\n",
        "\n",
        "if not os.path.exists(dirName0):\n",
        "    os.mkdir(dirName0)\n",
        "    print(\"Directory Created \")\n",
        "else:    \n",
        "    print(\"Directory already exists\")\n",
        "    \n",
        "if not os.path.exists(dirName1):\n",
        "    os.mkdir(dirName1)\n",
        "    print(\"Directory Created \")\n",
        "else:    \n",
        "    print(\"Directory already exists\")\n",
        "\n",
        "if not os.path.exists(dirName2):\n",
        "    os.mkdir(dirName2)\n",
        "    print(\"Directory Created \")\n",
        "else:    \n",
        "    print(\"Directory already exists\")\n",
        "if not os.path.exists(dirName3):\n",
        "    os.mkdir(dirName3)\n",
        "    print(\"Directory Created \")\n",
        "else:    \n",
        "    print(\"Directory already exists\")\n",
        "if not os.path.exists(dirName4):\n",
        "    os.mkdir(dirName4)\n",
        "    print(\"Directory Created \")\n",
        "else:    \n",
        "    print(\"Directory already exists\")\n",
        "    \n",
        "if not os.path.exists(dirName5):\n",
        "    os.mkdir(dirName5)\n",
        "    print(\"Directory Created \")\n",
        "else:    \n",
        "    print(\"Directory already exists\")\n"
      ],
      "execution_count": 44,
      "outputs": [
        {
          "output_type": "stream",
          "text": [
            "Directory already exists\n",
            "Directory Created \n",
            "Directory Created \n",
            "Directory Created \n",
            "Directory Created \n",
            "Directory Created \n"
          ],
          "name": "stdout"
        }
      ]
    },
    {
      "metadata": {
        "id": "zD-tlfuhJ87Q",
        "colab_type": "code",
        "colab": {
          "base_uri": "https://localhost:8080/",
          "height": 34
        },
        "outputId": "3eeec5d8-3c1c-4a21-c936-b71857c1bd37"
      },
      "cell_type": "code",
      "source": [
        "!pwd"
      ],
      "execution_count": 47,
      "outputs": [
        {
          "output_type": "stream",
          "text": [
            "/content/drive/My Drive/scene-train\n"
          ],
          "name": "stdout"
        }
      ]
    },
    {
      "metadata": {
        "id": "sBjJjZkJIjoT",
        "colab_type": "code",
        "colab": {}
      },
      "cell_type": "code",
      "source": [
        "import pandas as pd\n",
        "import numpy as np\n",
        "import shutil\n",
        "\n",
        "file=\"train.csv\"\n",
        "source = '/content/drive/My Drive/scene-train/train/'\n",
        "dest0 = '/content/drive/My Drive/scene-train/buildings'\n",
        "\n",
        "\n",
        "os.rename(source, dest0)\n",
        "\n",
        "train = pd.read_csv(file)\n",
        "\n",
        "for index, row in train.iterrows():\n",
        "    img_name = row['image_name']\n",
        "    label = row['label']\n",
        "    src = train + img_name\n",
        "    dst = dest0 + img_name\n",
        "    \n",
        "    if label is 0:\n",
        "      shutil.move(src, dest0)\n",
        "      "
      ],
      "execution_count": 0,
      "outputs": []
    }
  ]
}