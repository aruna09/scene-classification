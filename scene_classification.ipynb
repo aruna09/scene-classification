{
  "nbformat": 4,
  "nbformat_minor": 0,
  "metadata": {
    "colab": {
      "name": "scene classification.ipynb",
      "version": "0.3.2",
      "provenance": [],
      "collapsed_sections": [],
      "include_colab_link": true
    },
    "kernelspec": {
      "name": "python2",
      "display_name": "Python 2"
    }
  },
  "cells": [
    {
      "cell_type": "markdown",
      "metadata": {
        "id": "view-in-github",
        "colab_type": "text"
      },
      "source": [
        "<a href=\"https://colab.research.google.com/github/aruna09/scene-classification/blob/master/scene_classification.ipynb\" target=\"_parent\"><img src=\"https://colab.research.google.com/assets/colab-badge.svg\" alt=\"Open In Colab\"/></a>"
      ]
    },
    {
      "metadata": {
        "id": "ZXsYo045Z2-s",
        "colab_type": "code",
        "colab": {}
      },
      "cell_type": "code",
      "source": [
        "from google.colab import drive\n",
        "drive.mount('/content/drive')"
      ],
      "execution_count": 0,
      "outputs": []
    },
    {
      "metadata": {
        "id": "BmGFjcd9J7vb",
        "colab_type": "code",
        "colab": {}
      },
      "cell_type": "code",
      "source": [
        "import zipfile\n",
        "\n",
        "zip_ref = zipfile.ZipFile(\"/content/drive/My Drive/train-scene classification.zip\", 'r')\n",
        "zip_ref.extractall(\"/content/drive/My Drive\")\n",
        "zip_ref.close()"
      ],
      "execution_count": 0,
      "outputs": []
    },
    {
      "metadata": {
        "id": "gDIQSs2EARxr",
        "colab_type": "code",
        "colab": {}
      },
      "cell_type": "code",
      "source": [
        "## creating folders to divide train images\n",
        "import os\n",
        "\n",
        "dirName0 = '/content/drive/My Drive/train/buildings'\n",
        "dirName1 = '/content/drive/My Drive/train/forest'\n",
        "dirName2 = '/content/drive/My Drive/train/glacier'\n",
        "dirName3 = '/content/drive/My Drive/train/mountain'\n",
        "dirName4 = '/content/drive/My Drive/train/sea'\n",
        "dirName5 = '/content/drive/My Drive/train/street'\n",
        "\n",
        "if not os.path.exists(dirName0):\n",
        "    os.mkdir(dirName0)\n",
        "    print(\"Directory Created \")\n",
        "else:    \n",
        "    print(\"Directory already exists\")\n",
        "    \n",
        "if not os.path.exists(dirName1):\n",
        "    os.mkdir(dirName1)\n",
        "    print(\"Directory Created \")\n",
        "else:    \n",
        "    print(\"Directory already exists\")\n",
        "\n",
        "if not os.path.exists(dirName2):\n",
        "    os.mkdir(dirName2)\n",
        "    print(\"Directory Created \")\n",
        "else:    \n",
        "    print(\"Directory already exists\")\n",
        "if not os.path.exists(dirName3):\n",
        "    os.mkdir(dirName3)\n",
        "    print(\"Directory Created \")\n",
        "else:    \n",
        "    print(\"Directory already exists\")\n",
        "if not os.path.exists(dirName4):\n",
        "    os.mkdir(dirName4)\n",
        "    print(\"Directory Created \")\n",
        "else:    \n",
        "    print(\"Directory already exists\")\n",
        "    \n",
        "if not os.path.exists(dirName5):\n",
        "    os.mkdir(dirName5)\n",
        "    print(\"Directory Created \")\n",
        "else:    \n",
        "    print(\"Directory already exists\")\n"
      ],
      "execution_count": 0,
      "outputs": []
    },
    {
      "metadata": {
        "id": "hK4FRQW2HdNS",
        "colab_type": "code",
        "colab": {
          "base_uri": "https://localhost:8080/",
          "height": 34
        },
        "outputId": "ba0c22fb-6f4f-4db5-df6f-30ba06890ec7"
      },
      "cell_type": "code",
      "source": [
        "!pwd"
      ],
      "execution_count": 10,
      "outputs": [
        {
          "output_type": "stream",
          "text": [
            "/content\n"
          ],
          "name": "stdout"
        }
      ]
    },
    {
      "metadata": {
        "id": "wVBKAAGTLZKd",
        "colab_type": "code",
        "colab": {}
      },
      "cell_type": "code",
      "source": [
        "## checking whether the extraction worked.\n",
        "## train.csv has image names along with their labels. \n",
        "## the images that don't have labels belong to the test set.\n",
        "\n",
        "## 'buildings' -> 0, \n",
        "## 'forest' -> 1,\n",
        "## 'glacier' -> 2,\n",
        "## 'mountain' -> 3,\n",
        "## 'sea' -> 4,\n",
        "## 'street' -> 5\n",
        "\n",
        "## Successfully moved images to respective folders.\n",
        "import pandas as pd\n",
        "import shutil\n",
        "import os\n",
        "\n",
        "source = \"/content/drive/My Drive/train/\"\n",
        "destination = \"/content/drive/My Drive/train/buildings/\"\n",
        "\n",
        "train  = pd.read_csv(\"/content/drive/My Drive/train/train.csv\")\n",
        "for index, row in train.iterrows():\n",
        "  img_name = row['image_name']\n",
        "  label = row['label']\n",
        "  \n",
        "  if label == 0:\n",
        "    if img_name!= \"0.jpg\":\n",
        "      src = os.path.join(source, img_name)\n",
        "      dest = os.path.join(destination, img_name)\n",
        "      \n",
        "      shutil.move(src,dest)\n",
        "  if label == 1:\n",
        "    src = os.path.join(source, img_name)\n",
        "    dest = os.path.join(destination, img_name)\n",
        "     \n",
        "    shutil.move(src,dest)\n",
        "  if label == 0:\n",
        "    src = os.path.join(source, img_name)\n",
        "    dest = os.path.join(destination, img_name)\n",
        "     \n",
        "    shutil.move(src,dest)\n",
        "  if label == 0:\n",
        "      src = os.path.join(source, img_name)\n",
        "      dest = os.path.join(destination, img_name)\n",
        "     \n",
        "      shutil.move(src,dest)\n",
        "  if label == 0:\n",
        "    src = os.path.join(source, img_name)\n",
        "    dest = os.path.join(destination, img_name)\n",
        "     \n",
        "    shutil.move(src,dest)\n",
        "  if label == 0:\n",
        "    src = os.path.join(source, img_name)\n",
        "    dest = os.path.join(destination, img_name)\n",
        "     \n",
        "    shutil.move(src,dest)"
      ],
      "execution_count": 0,
      "outputs": []
    }
  ]
}